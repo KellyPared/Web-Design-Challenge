{
 "cells": [
  {
   "cell_type": "code",
   "execution_count": 1,
   "id": "8f76dd9a",
   "metadata": {},
   "outputs": [],
   "source": [
    "import pandas as pd"
   ]
  },
  {
   "cell_type": "code",
   "execution_count": 3,
   "id": "bed821cd",
   "metadata": {},
   "outputs": [],
   "source": [
    "df = pd.read_csv('resources/cities.csv')"
   ]
  },
  {
   "cell_type": "code",
   "execution_count": 4,
   "id": "cde2e210",
   "metadata": {},
   "outputs": [
    {
     "data": {
      "text/html": [
       "<div>\n",
       "<style scoped>\n",
       "    .dataframe tbody tr th:only-of-type {\n",
       "        vertical-align: middle;\n",
       "    }\n",
       "\n",
       "    .dataframe tbody tr th {\n",
       "        vertical-align: top;\n",
       "    }\n",
       "\n",
       "    .dataframe thead th {\n",
       "        text-align: right;\n",
       "    }\n",
       "</style>\n",
       "<table border=\"1\" class=\"dataframe\">\n",
       "  <thead>\n",
       "    <tr style=\"text-align: right;\">\n",
       "      <th></th>\n",
       "      <th>City_ID</th>\n",
       "      <th>City</th>\n",
       "      <th>Lat</th>\n",
       "      <th>Lng</th>\n",
       "      <th>Max Temp</th>\n",
       "      <th>Humidity</th>\n",
       "      <th>Cloudiness</th>\n",
       "      <th>Wind Speed</th>\n",
       "      <th>Country</th>\n",
       "      <th>Date</th>\n",
       "    </tr>\n",
       "  </thead>\n",
       "  <tbody>\n",
       "    <tr>\n",
       "      <th>0</th>\n",
       "      <td>0</td>\n",
       "      <td>mataura</td>\n",
       "      <td>-46.1927</td>\n",
       "      <td>168.8643</td>\n",
       "      <td>14.62</td>\n",
       "      <td>80</td>\n",
       "      <td>100</td>\n",
       "      <td>2.31</td>\n",
       "      <td>NZ</td>\n",
       "      <td>1673898360</td>\n",
       "    </tr>\n",
       "    <tr>\n",
       "      <th>1</th>\n",
       "      <td>1</td>\n",
       "      <td>bonavista</td>\n",
       "      <td>48.6499</td>\n",
       "      <td>-53.1147</td>\n",
       "      <td>1.15</td>\n",
       "      <td>98</td>\n",
       "      <td>100</td>\n",
       "      <td>10.73</td>\n",
       "      <td>CA</td>\n",
       "      <td>1673898361</td>\n",
       "    </tr>\n",
       "    <tr>\n",
       "      <th>2</th>\n",
       "      <td>2</td>\n",
       "      <td>mamedkala</td>\n",
       "      <td>42.1677</td>\n",
       "      <td>48.1199</td>\n",
       "      <td>1.59</td>\n",
       "      <td>80</td>\n",
       "      <td>49</td>\n",
       "      <td>2.43</td>\n",
       "      <td>RU</td>\n",
       "      <td>1673898362</td>\n",
       "    </tr>\n",
       "    <tr>\n",
       "      <th>3</th>\n",
       "      <td>3</td>\n",
       "      <td>mahebourg</td>\n",
       "      <td>-20.4081</td>\n",
       "      <td>57.7000</td>\n",
       "      <td>26.25</td>\n",
       "      <td>78</td>\n",
       "      <td>75</td>\n",
       "      <td>5.14</td>\n",
       "      <td>MU</td>\n",
       "      <td>1673898363</td>\n",
       "    </tr>\n",
       "    <tr>\n",
       "      <th>4</th>\n",
       "      <td>4</td>\n",
       "      <td>calabozo</td>\n",
       "      <td>8.9242</td>\n",
       "      <td>-67.4293</td>\n",
       "      <td>35.81</td>\n",
       "      <td>25</td>\n",
       "      <td>9</td>\n",
       "      <td>2.02</td>\n",
       "      <td>VE</td>\n",
       "      <td>1673898364</td>\n",
       "    </tr>\n",
       "  </tbody>\n",
       "</table>\n",
       "</div>"
      ],
      "text/plain": [
       "   City_ID       City      Lat       Lng  Max Temp  Humidity  Cloudiness  \\\n",
       "0        0    mataura -46.1927  168.8643     14.62        80         100   \n",
       "1        1  bonavista  48.6499  -53.1147      1.15        98         100   \n",
       "2        2  mamedkala  42.1677   48.1199      1.59        80          49   \n",
       "3        3  mahebourg -20.4081   57.7000     26.25        78          75   \n",
       "4        4   calabozo   8.9242  -67.4293     35.81        25           9   \n",
       "\n",
       "   Wind Speed Country        Date  \n",
       "0        2.31      NZ  1673898360  \n",
       "1       10.73      CA  1673898361  \n",
       "2        2.43      RU  1673898362  \n",
       "3        5.14      MU  1673898363  \n",
       "4        2.02      VE  1673898364  "
      ]
     },
     "execution_count": 4,
     "metadata": {},
     "output_type": "execute_result"
    }
   ],
   "source": [
    "df.head()\n"
   ]
  },
  {
   "cell_type": "code",
   "execution_count": 5,
   "id": "bfdf0261",
   "metadata": {},
   "outputs": [],
   "source": [
    "df.to_html('cities.html',index=False)\n"
   ]
  },
  {
   "cell_type": "code",
   "execution_count": null,
   "id": "6f006d3b",
   "metadata": {},
   "outputs": [],
   "source": []
  }
 ],
 "metadata": {
  "kernelspec": {
   "display_name": "Python 3",
   "language": "python",
   "name": "python3"
  },
  "language_info": {
   "codemirror_mode": {
    "name": "ipython",
    "version": 3
   },
   "file_extension": ".py",
   "mimetype": "text/x-python",
   "name": "python",
   "nbconvert_exporter": "python",
   "pygments_lexer": "ipython3",
   "version": "3.10.5"
  },
  "vscode": {
   "interpreter": {
    "hash": "aee8b7b246df8f9039afb4144a1f6fd8d2ca17a180786b69acc140d282b71a49"
   }
  }
 },
 "nbformat": 4,
 "nbformat_minor": 5
}
